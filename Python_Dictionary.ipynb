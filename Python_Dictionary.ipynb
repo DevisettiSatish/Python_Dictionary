{
 "cells": [
  {
   "cell_type": "code",
   "execution_count": null,
   "id": "e891899b",
   "metadata": {},
   "outputs": [],
   "source": [
    "# dictionary is a mutable data type\n",
    "# it is Represented by {} key value pair\n",
    "# it is Can Accept any Data Type"
   ]
  },
  {
   "cell_type": "code",
   "execution_count": 1,
   "id": "badea503",
   "metadata": {},
   "outputs": [
    {
     "name": "stdout",
     "output_type": "stream",
     "text": [
      "{'name': 'satish', 'age': 22, 'salary': 22000}\n"
     ]
    }
   ],
   "source": [
    "x={'name':'satish','age':22,'salary':22000}   # save in memory\n",
    "print(x)           # calling the functions"
   ]
  },
  {
   "cell_type": "code",
   "execution_count": 2,
   "id": "ceb58244",
   "metadata": {},
   "outputs": [
    {
     "name": "stdout",
     "output_type": "stream",
     "text": [
      "{'Name': 'sai', 'Age': 25, 'salary': 25000}\n",
      "<class 'dict'>\n"
     ]
    }
   ],
   "source": [
    "a={'Name':'sai','Age':25,'salary':25000}\n",
    "print(a)\n",
    "print(type(a))"
   ]
  },
  {
   "cell_type": "code",
   "execution_count": 4,
   "id": "20b492db",
   "metadata": {},
   "outputs": [
    {
     "name": "stdout",
     "output_type": "stream",
     "text": [
      "{'Name': ['kiran', 'krishna', 'Ravi'], 'Age': [22, 25, 27], 'Domain': ['power bi', 'sql', 'python']}\n",
      "<class 'dict'>\n"
     ]
    }
   ],
   "source": [
    "course={'Name':['kiran','krishna','Ravi'],'Age':[22,25,27],'Domain':['power bi','sql','python']} # save in memory\n",
    "print(course) # calling the function\n",
    "print(type(course))   # whats type of datatype"
   ]
  },
  {
   "cell_type": "code",
   "execution_count": 5,
   "id": "03bcaf4f",
   "metadata": {},
   "outputs": [
    {
     "name": "stdout",
     "output_type": "stream",
     "text": [
      "['kiran', 'krishna', 'Ravi']\n"
     ]
    }
   ],
   "source": [
    "course={'Name':['kiran','krishna','Ravi'],'Age':[22,25,27],'Domain':['power bi','sql','python']}\n",
    "print(course['Name'])"
   ]
  },
  {
   "cell_type": "code",
   "execution_count": 6,
   "id": "7f183dd5",
   "metadata": {},
   "outputs": [
    {
     "name": "stdout",
     "output_type": "stream",
     "text": [
      "[22, 25, 27]\n"
     ]
    }
   ],
   "source": [
    "print(course['Age'])"
   ]
  },
  {
   "cell_type": "code",
   "execution_count": 8,
   "id": "64070ff6",
   "metadata": {},
   "outputs": [
    {
     "name": "stdout",
     "output_type": "stream",
     "text": [
      "['power bi', 'sql', 'python']\n"
     ]
    }
   ],
   "source": [
    "print(course['Domain'])"
   ]
  },
  {
   "cell_type": "code",
   "execution_count": 10,
   "id": "c6ed66ca",
   "metadata": {},
   "outputs": [
    {
     "name": "stdout",
     "output_type": "stream",
     "text": [
      "{}\n"
     ]
    }
   ],
   "source": [
    "# bulit in functions\n",
    "# copy\n",
    "\n",
    "a={'name':'Ravi','Age':26,'Salary':28000}\n",
    "a.clear()\n",
    "print(a)\n"
   ]
  },
  {
   "cell_type": "code",
   "execution_count": 12,
   "id": "9a06b22b",
   "metadata": {},
   "outputs": [
    {
     "name": "stdout",
     "output_type": "stream",
     "text": [
      "{'course': 'python', 'fee': 20000, 'institute': 'naresh'}\n",
      "<class 'dict'>\n"
     ]
    }
   ],
   "source": [
    "#copy\n",
    "\n",
    "b={'course':'python','fee':20000,'institute':'naresh'}\n",
    "a=b.copy()\n",
    "print(b)\n",
    "print(type(b))"
   ]
  },
  {
   "cell_type": "code",
   "execution_count": 14,
   "id": "5c63ebbf",
   "metadata": {},
   "outputs": [
    {
     "name": "stdout",
     "output_type": "stream",
     "text": [
      "python\n"
     ]
    }
   ],
   "source": [
    "#get\n",
    "\n",
    "b={'course':'python','fee':20000,'institute':'naresh'}\n",
    "\n",
    "print(b.get('course'))\n"
   ]
  },
  {
   "cell_type": "code",
   "execution_count": 15,
   "id": "e6146af9",
   "metadata": {},
   "outputs": [
    {
     "name": "stdout",
     "output_type": "stream",
     "text": [
      "20000\n"
     ]
    }
   ],
   "source": [
    "print(b.get('fee'))"
   ]
  },
  {
   "cell_type": "code",
   "execution_count": 16,
   "id": "f9a6a84a",
   "metadata": {},
   "outputs": [
    {
     "name": "stdout",
     "output_type": "stream",
     "text": [
      "naresh\n"
     ]
    }
   ],
   "source": [
    "print(b.get('institute'))"
   ]
  },
  {
   "cell_type": "code",
   "execution_count": 18,
   "id": "7b9a2e63",
   "metadata": {},
   "outputs": [
    {
     "name": "stdout",
     "output_type": "stream",
     "text": [
      "dict_keys(['Name', 'age', 'salary'])\n",
      "<class 'dict'>\n"
     ]
    }
   ],
   "source": [
    "# keys\n",
    "\n",
    "a = {'Name':'A' , 'age':21 , 'salary':10}\n",
    "print(a.keys())\n",
    "print(type(a))"
   ]
  },
  {
   "cell_type": "code",
   "execution_count": 19,
   "id": "cd88995c",
   "metadata": {},
   "outputs": [
    {
     "name": "stdout",
     "output_type": "stream",
     "text": [
      "dict_values(['A', 21, 10])\n",
      "<class 'dict'>\n"
     ]
    }
   ],
   "source": [
    "# values\n",
    "\n",
    "a = {'Name':'A' , 'age':21 , 'salary':10}\n",
    "print(a.values())\n",
    "print(type(a))"
   ]
  },
  {
   "cell_type": "code",
   "execution_count": 22,
   "id": "c7ee48be",
   "metadata": {},
   "outputs": [
    {
     "name": "stdout",
     "output_type": "stream",
     "text": [
      "dict_items([('Name', ['kiran', 'krishna', 'Ravi']), ('Age', [22, 25, 27]), ('Domain', ['power bi', 'sql', 'python'])])\n",
      "<class 'dict'>\n"
     ]
    }
   ],
   "source": [
    "# items function both keys and Vaues\n",
    "course={'Name':['kiran','krishna','Ravi'],'Age':[22,25,27],'Domain':['power bi','sql','python']}\n",
    "print(course.items())\n",
    "print(type(course))"
   ]
  },
  {
   "cell_type": "code",
   "execution_count": 23,
   "id": "c18a0188",
   "metadata": {},
   "outputs": [
    {
     "name": "stdout",
     "output_type": "stream",
     "text": [
      "{'Name': 'A', 'age': 21}\n",
      "<class 'dict'>\n"
     ]
    }
   ],
   "source": [
    "# pop\n",
    "\n",
    "a = {'Name':'A' , 'age':21 , 'salary':10}\n",
    "a.pop('salary')\n",
    "print(a)\n",
    "print(type(a))\n"
   ]
  },
  {
   "cell_type": "code",
   "execution_count": 25,
   "id": "95fc3c84",
   "metadata": {},
   "outputs": [
    {
     "name": "stdout",
     "output_type": "stream",
     "text": [
      "{'Name': 'A', 'age': 21}\n",
      "<class 'dict'>\n"
     ]
    }
   ],
   "source": [
    "# popitems\n",
    "\n",
    "a = {'Name':'A' , 'age':21 , 'salary':10}\n",
    "a.popitem()\n",
    "print(a)\n",
    "print(type(a))\n"
   ]
  },
  {
   "cell_type": "code",
   "execution_count": 27,
   "id": "51f11d58",
   "metadata": {},
   "outputs": [
    {
     "name": "stdout",
     "output_type": "stream",
     "text": [
      "{'name': 'satish', 'age': 22, 'salary': 22000, 'location': 'pune'}\n",
      "<class 'dict'>\n"
     ]
    }
   ],
   "source": [
    "# Addition\n",
    "\n",
    "x={'name':'satish','age':22,'salary':22000}  \n",
    "x['location']='pune'\n",
    "print(x)\n",
    "print(type(x))"
   ]
  },
  {
   "cell_type": "code",
   "execution_count": 28,
   "id": "85847346",
   "metadata": {},
   "outputs": [
    {
     "name": "stdout",
     "output_type": "stream",
     "text": [
      "{'age': 22, 'salary': 22000}\n",
      "<class 'dict'>\n"
     ]
    }
   ],
   "source": [
    "# deletion\n",
    "\n",
    "x={'name':'satish','age':22,'salary':22000} \n",
    "del x['name']\n",
    "print(x)\n",
    "print(type(x))"
   ]
  },
  {
   "cell_type": "code",
   "execution_count": 30,
   "id": "3ab9efec",
   "metadata": {},
   "outputs": [
    {
     "name": "stdout",
     "output_type": "stream",
     "text": [
      "{'name': 'satish', 'age': 22, 'salary': 22000, 'location': 'hyderabda'}\n"
     ]
    }
   ],
   "source": [
    "# update\n",
    "\n",
    "x={'name':'satish','age':22,'salary':22000} \n",
    "x.update({'location':'hyderabda'})\n",
    "print(x)"
   ]
  },
  {
   "cell_type": "code",
   "execution_count": 32,
   "id": "b979e459",
   "metadata": {},
   "outputs": [
    {
     "name": "stdout",
     "output_type": "stream",
     "text": [
      "{'Name': 'sai', 'Age': 35, 'salary': 25000}\n"
     ]
    }
   ],
   "source": [
    "# replace\n",
    "a={'Name':'sai','Age':25,'salary':25000}\n",
    "\n",
    "a['Age']=35\n",
    "print(a)"
   ]
  },
  {
   "cell_type": "code",
   "execution_count": 33,
   "id": "879c433a",
   "metadata": {},
   "outputs": [],
   "source": [
    "a['salary']=23000"
   ]
  },
  {
   "cell_type": "code",
   "execution_count": null,
   "id": "6381c5ca",
   "metadata": {},
   "outputs": [],
   "source": []
  }
 ],
 "metadata": {
  "kernelspec": {
   "display_name": "Python 3 (ipykernel)",
   "language": "python",
   "name": "python3"
  },
  "language_info": {
   "codemirror_mode": {
    "name": "ipython",
    "version": 3
   },
   "file_extension": ".py",
   "mimetype": "text/x-python",
   "name": "python",
   "nbconvert_exporter": "python",
   "pygments_lexer": "ipython3",
   "version": "3.11.5"
  }
 },
 "nbformat": 4,
 "nbformat_minor": 5
}
